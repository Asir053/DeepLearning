{
  "nbformat": 4,
  "nbformat_minor": 0,
  "metadata": {
    "colab": {
      "name": "160204053_Problem#2_NN_Final.ipynb",
      "provenance": [],
      "collapsed_sections": []
    },
    "kernelspec": {
      "name": "python3",
      "display_name": "Python 3"
    }
  },
  "cells": [
    {
      "cell_type": "markdown",
      "metadata": {
        "id": "auZeICSlmr-e"
      },
      "source": [
        "# **Assignment #2**\n",
        "### **Gender Recognition from Ekush Bengali Handwritten Digits using Neural Network**\n",
        "\n",
        "###**Introduction:-**\n",
        "\n",
        "Optical Character Recognition (OCR) is one of the major topics of Natural Language Processing (NLP). A widespread use of Deep Learning can be obsereved in the field of OCR. Neural Networks are computation models inspired from human brains. Training deep Neural Networks is called Deep Learning which is a subset of supervised Machine Learning.\n",
        "\n",
        "In this experiment, different Neural Network models with different hyperparameter settings to classify handwritten digits of male/female classes of Ekush dataset are trained. After the training phase the best model is tested with test data which is split from the whole dataset. Finally, all models are thoroughly compared based on their hyperparameter configurations.\n",
        "\n",
        "###**Dataset:-**\n",
        "\n",
        "Ekush is a multipurpose dataset which consists of total 673,482 character instances. It can be utilized for character recognition, gender identification and forensic investigation purposes.\n",
        "\n",
        "*Dataset Link:*  https://shahariarrabby.github.io/ekush/#download\n",
        "\n",
        "\n",
        "Snapshot from Ekush:\n",
        "\n",
        "<div align=\"center\">\n",
        "<img src=\"https://drive.google.com/uc?id=1GhuJfYchOjfNoBtwkpWivPRQinegMYwy\" width=\"600\">\n",
        "</div>\n",
        "\n",
        "###**Logistic Regression & Neural Network:-**\n",
        "\n",
        "Logistic regression is a supervised learning algorithm which tries to minimize the error between training data and the predictions.\n",
        "\n",
        "Logistic regression passes the output of linear regression to  sigmoid function. Here $\\beta$ and $b$ are parameters named weight vector and bias respectively. These parameters get updated till the cost function is minimized through gradient descent optimization algorithm.\n",
        "\n",
        "The prediction $h_\\beta (x_i)$ ranges between 0 to 1 inclusive. If $x$ represents training features,\n",
        "\n",
        "$h_\\beta(x) = \\sigma(\\beta^T x + b)$\n",
        "\n",
        "Equation of the Sigmoid function is,\n",
        "\n",
        "$\\sigma(z) = \\frac{1}{1 + \\exp^{-z}}$\n",
        "\n",
        "Equation for the Cross Entropy cost function is, \n",
        "\n",
        "$J(\\beta ) = \\frac{1}{m} \\sum_{i=1}^m[-y_i log(h_\\beta (x_i) – (1 – y_i) log(1-h_\\beta (x_i))]$\n",
        "\n",
        "Using Cross Entropy with Sigmoid output, the resultant function becomes convex which is elligible for gradient descent convergence.\n",
        "\n",
        "So parameter updation executed until the following condition is fulfilled,\n",
        "\n",
        "$\\frac{dJ(\\beta)}{d\\beta} = \\frac{1}{m} \\sum_{i=1}^Nx_i(h_\\beta(x_i)-y_i) = 0$\n",
        "\n",
        "Here, $m$ is the size of the training set.\n",
        "\n",
        "Gradient descent weight updation equation is written below,\n",
        "\n",
        "$\\beta := \\beta - \\alpha \\frac{dJ(\\beta)}{d\\beta}$\n",
        "\n",
        "Here, $\\alpha$ is the learning rate indicating how fast or slow the optimizer will try to converge.\n",
        "\n",
        "Neural Network is basically a stack of units that perform logistic regression and passes the output to the next layers. These outputs are the output of activation functions.  \n",
        "\n",
        "There are at least one input, one hidden (fully connected) and one output layer in a Neural Network. The internal layers are called hidden layers because the true values of those layers for the training set can't be observed.\n",
        "\n",
        "Simple Neural Network structure is shown below:\n",
        "\n",
        "<div align=\"center\">\n",
        "<img src=\"https://drive.google.com/uc?id=1_U5ywB15itLi_EoH28OvsrUJJKqPYxht\" width=\"200\">\n",
        "</div>\n",
        "\n",
        "<div align=\"center\">\n",
        "<img src=\"https://drive.google.com/uc?id=1jDgBL0GmghhB0P8ljOzfw92FGafYopUX\" width=\"800\">\n",
        "</div>\n",
        "\n",
        "Here superscripts represent the layer numbers.\n",
        "\n",
        "Activations functions can be linear or non-linear. Linear functions are not elligible for backpropagation and linear operation of a collection of layers or neurons produces a linear decision boundary. This is similar to linear regression.\n",
        "\n",
        "For generating complex non-linear decision boundary, non-linear activations are used. They have non-zero derivatives which makes backpropagation possible.\n",
        "\n",
        "Equations for multiple logistic regression units are converted to a vectorized equation for backpropagation.\n",
        "\n",
        "###**Hyperparameters:-**\n",
        "\n",
        "Hyperparameters are elements which influence the parameters but do not get updated during training. Some significant hyperparameters in this experiment are:\n",
        "\n",
        "*    **Batch Size/ Minibatch:** Number of examples in one iteration.\n",
        "*    **Number of Iteration:** One iteration represents one mini-batch forward & backward pass. That means a parameter (weights and biases) update.\n",
        "*    **Optimizer:** The parameter updation is executed during backpropagation with the help of gradient descent optimizer by calculating partial derivatives of the cost function with respect to current weight. Parameters are updated only in the training phase of the model. The goal of the optimizer is to converge or to reach the global maxima of the loss\n",
        "function. Notable optimizers which are successor of gradient descent are Stochastic Gradient Descent (SGD), SGD+Momentum, Adagrad, Adadelta, RMSProp, Adam etc. Adam has an adaptive learning rate and doesn’t have the issues faced when using SGD.\n",
        "\n",
        "    Different optimizers performance comparison is shown below:\n",
        "\n",
        "<div align=\"center\">\n",
        "<img src=\"https://drive.google.com/uc?id=1fjsoFvvBRChEEyNY2jp47_aSQ8eoHrWN\" width=\"300\">\n",
        "</div>\n",
        "\n",
        "*    **Learning Rate:** The learning rate is a constant indicating how fast or slow the optimizer will be updating the parameters. If it is too small then it will not be efficient for the optimizer to converge. If it is large then the optimizer may diverge which means, never reaching the global maxima.\n",
        "*    **Loss Function:** Also known as criterion function. The derivative of this function is used in parameter updation equation. This derivative is zero in the global optima. Loss function computes the error for a single training example. Cross Entropy, Mean Square Error etc are notable loss functions.\n",
        "*    **Epoch:** One epoch means running through the whole dataset once\n",
        "$epochs = iterations \\div \\frac{totaldata}{minibatch}$  \n",
        "*    **Number of Layers:** A Neural Network can have multiple layers. It must have a single layer and input layer is not considered. More layers create better feature learning capability.\n",
        "*    **Number of Neurons:** A single layer is consisted of many neurons. More neurons usually result in better performance.\n",
        "*    **Activation Funtion:**  Activation function activates or deactivates hidden layer neurons of neural network according to a threshold. \n",
        "Sigmoid, Tanh, ReLU, LeakyReLU etc are notable non-linear activation functions. Sigmoid and Tanh are saturating activations because for too small or large input values the gradient is close to zero. Using these activations in deep networks result in vanishing gradient problem which means the weights and biases don't get updated. For negative inputs the gradient of ReLU becomes zero. This problem is named dying ReLU. LeakyReLU is created to resolve this problem. Its equation is $max(0.1x,x)$. Different activation functions can be used in different layers in a Neural Network. Equations and graphs for different activations are shown below:\n",
        "\n",
        "<div align=\"center\">\n",
        "<img src=\"https://drive.google.com/uc?id=1friUQG7FVmnYOf7fde8H1Mp1IftxGMHm\" width=\"250\">\n",
        "</div>\n",
        "\n",
        "\n",
        "###**Experimental Setup:-**\n",
        "\n",
        "**Preprocessing:-**\n",
        "\n",
        "There are total 30830 images in the dataset. For this experiment, this dataset was split into 90% for training and 10% for test set. Images were normalized to keep the values between 0 to 1. All images were resized to 28x28 pixels. The input dimension is 28x28 and there is only 1 unit as output of the binary classification. The images have only one channel.\n",
        "\n",
        "**Configuration Summary:-**\n",
        "\n",
        "According to the discussion in the optimizer part of the hyperparameter section, initially I prefered trying out the Adam optimizer. But for logistic regression on this dataset, RMSprop has a decent record of performance. So, I tried it and it is present in one of the best settings.\n",
        "\n",
        "Though learning rate values in 0.001 to 0.00001 range were tested in most of the settings, models with 0.0001 learning rate achieved the best accuracy and loss.\n",
        "\n",
        "The best configurations have number of epoch set between 80 to 150 range. Too large number of epochs were not selected to keep the training duration as low as possible for each setting. Increasing the epoch amount till 100 helped gain better accuracy for respective combinations. Training with too much epoch resulted in worse accuracy.\n",
        "\n",
        "Tuning number of layers is a crucial part of neural network training. A single layer neural network is far more efficient than logistic regression or a single neuron.\n",
        "\n",
        "Increasing number of layers enhance the feature learning capability of the neural network. But adding too many layers result in overfitting which means model can generalize well on training data but fits the validation data poorly. Basically oveerfitting is caused by too much complex non-linear decision boundary. There are many techniques to avoid overfitting such as regularization but those are not a priority in this  experiment.\n",
        "\n",
        "Number of layers ranging between two to five was chosen for different models. It was observed that most of the deep models with five or more hidden layers started showing overfitting. So, too deep models weren't attempted in this experiment. The best 4 models for this dataset have 3-4 layers.\n",
        "\n",
        "For the layers, number of hidden units or neurons was chosen randomly in monotonically increasing or decreasing or non-monotonic sequence. 100 to 500 neurons were selected for each layer. I tried with neuron amount of power of 2 such as 128, 256 etc in a few configurations but didn't bother much about this because there is no hard and fast rule regarding this. \n",
        "\n",
        "Neural networks can be trained with different activations in different layers. Tanh, ReLU, Sigmoid, LeakyReLU and some other activations from the pytorch libraries were used with the layers but Tanh and LeakyReLU combinations are predominant in the best 4 models. \n",
        "\n",
        "Binary Cross Entropy (BCE) Loss function has been chosen for all the settings as the task is a binary classificaion. There are other loss functions which could be tested but in this specific problem domain, using Cross Entropy loss is mostly preferred.\n",
        "\n",
        "The hyperparameter configurations of different models are shown in the table below:\n",
        "\n",
        "|Config No.| Num of Epoch |Optimizer|Learning Rate|Num of Layers|Num of Neurons|Activation Function|\n",
        "|:------| :---------: |:-----:|:----:|:----:|:----:|----:|\n",
        "| 1| 100 | Adam | 0.0001 | 3|100,100,100 |LeakyReLU,ReLU,Tanh | \n",
        "| 2| 100 | Adam |  0.0001  | 4|300,300,300,300 |Tanh,Tanh,LeakyReLU,LeakyReLU |\n",
        "| 3| 100 | RMSprop |  0.0001  | 3|300,500,400 |LeakyReLU,Tanh,Tanh |\n",
        "| 4| 100 | Adam |   0.0001   | 3|200,400,300 |Tanh,LeakyReLU,LeakyReLU |\n",
        "\n",
        "\n",
        "###**Result Analysis:-**\n",
        "\n",
        "**Model Performance:-**\n",
        "\n",
        "Table describing performance of different settings is shown below:\n",
        "\n",
        "|Config No.| Num of Epoch|Optimizer|Learning Rate|Num of Layers|Num of Neurons|Activation Function| Accuracy| Loss|\n",
        "|:------| :--------: |:-----:|:----:|:----:|:----:|:----:|:----:|----:|\n",
        "| 1| 100 | Adam  | 0.0001  | 3|100,100,100 |LeakyReLU,ReLU,Tanh | 62.35 | 0.62 | \n",
        "| 2| 100 | Adam |  0.0001  | 4|300,300,300,300 |Tanh,Tanh,LeakyReLU,LeakyReLU | 63.77 | 0.58 | \n",
        "| 3| 100 | RMSprop |   0.0001 | 3|300,500,400 |LeakyReLU,Tanh,Tanh | 61.7| 0.55 |\n",
        "| 4| 100 | Adam |   0.0001 | 3|200,400,300 |Tanh,LeakyReLU,LeakyReLU | 62.7| 0.59 | \n",
        "\n",
        "\n",
        "From the above tables it can be observed that, configuration-4 is the best performing model. \n",
        "\n",
        "Performance based on hyperparameter choice for this dataset are discussed below:\n",
        "\n",
        "Among all settings with three layers, Adam optimizer with 0.0001 learning rate outperformed all other choices which couldn't make the model reach 58 or higher accuracy in 100 epochs. So those hyperparameter choices weren't applied on deeper models. Yet, it was observed that 0.00001 learning rate has more potential to converge better given longer training time. SGD+momentum can also bring decent outcomes with more epochs.\n",
        "\n",
        "Settings with 0.1,0.001 and 0.00001 learning rate gained worse accuracy compared to 0.0001 if other hyperparameters were kept constant.\n",
        "\n",
        "Increasing number of epochs above 150 did not help the best model achieve better accuracy. Till 150 epochs the accuracy scores were oscillating a lot. It can be noticed that the loss for every model keeps decreasing but accuracy does not increase anymore after 100-150 epochs.\n",
        "\n",
        "All the best models are consisted of Tanh and LeakyReLU activation but their order in layers obviously matters. Tanh-Tanh-LeakyReLU performs better than LeakyReLU-ReLU-Tanh and LeakyReLU-Tanh-Tanh combinations. In the experiments it was noticed that, replacing Tanh with Sigmoid even in a single layer decreased the accuracy by a large margin. But the most surprising fact is, using LeakyReLU in all the layers could not beat the best four models in terms of loss. From the behaviour of the models, the existence of issues like the dying ReLU and saturating Sigmoid and Tanh are noticed.\n",
        "\n",
        "Three and four layer models showed identical performance in case of suboptimal hyperparameter choices for four layers. But all these models outperformed the two layer ones. Still, there is no clear pattern in this case. From different settings it can be noticed that number of layers alone can not indicate model efficiency. Number of neurons is also to be taken to consideration. So, we analyze these two hyperparameter choices together.\n",
        "\n",
        "Firstly, settings with more layers with too few neurons lag behind less layer settings. If we take layers with 30,50,50,50 neurons, the model would perform worse than 100,50,30 model. But in this experiment Config-1 with 100,100,100 gained better accuracy than Config-3 with 300,500,400 neurons. The order of activations can be the reason behind this.\n",
        "\n",
        "If number of layers is kept constant, then different monotonic or non-monotonic orders of fixed neuron amount for each layer does not influence model efficiency too much. Example: 300,500,400 and 300,400,500 won't have significant difference in accuracy and loss. \n",
        "\n",
        "The highest number of neurons among all the layers do not impact performance as much as the lowest number of neurons among all the layers. If the lowest number is too low then the model performs poorly compared to the model which doesn't have too high number of neurons in any layer but has more neurons as its lowest number of neurons. But in the experiment, 300,500,400 (model-3) lags behind 200,400,300 (model-4) in accuracy. Again, the order of activations are responsible for this.\n",
        "\n",
        "If the lowest number of neurons is constant, then more neurons added to highest number of neurons layer boosts performance. For instance, 300,700,500 shows better efficiency compared to 300,500,400.\n",
        "\n",
        "So, it's not as much plain and simple as the idea that number of neurons of all layers added indicate the performance of a neural network.\n",
        "\n",
        "The four best models are compared below with respective loss curves:\n",
        "\n",
        "<div align=\"center\">\n",
        "<img src=\"https://drive.google.com/uc?id=148PTm29WhtIRiP_NHITuHcw6SfWA2FSL\" width=\"800\">\n",
        "</div>\n",
        "\n",
        "Config-1 and 4 loss curves are more linear than the loss curve of the other two. Yet, Config-3 loss curve is more different than the other three. The RMSprop activation the reason behind this.\n",
        "\n",
        "From the graphs, it can be noticed that Setting-3 rerached the lowest loss. But from the table it is clear that it lags behind in accuracy which is surprising. During 30-40 epochs, Model-3 loss curve is parallel to x-axis.\n",
        "\n",
        "Overall both Adam and RMSprop are the most efficient optimizers along with a learning rate of 0.0001 .  Adding more epochs, we can notice the algorithm getting stuck at local optima. The accuracy also declines. However, more epochs keep improving the loss.\n",
        "\n",
        "It should be mentioned that the consequence of stacking consecutive Tanh or Sigmoid activation layers is the vanishing gradient problem. Such setting in case of ReLU results in the dying ReLU problem. To avoid these, the activation combinations were chosen cautiously.\n",
        "\n",
        "Contrary to wisely built different hyperparameter combinations, none of the models could surpass accuracy score of 64. Also the results for many configurations have so much similarity that it is difficult to come to any conclusion.\n",
        "\n",
        "**Test set prediction:-**\n",
        "\n",
        "Setting-2 could correctly predict 9 out of 10 given samples of the test set. This code is just below the code of setting-2 loss graph plot.\n",
        "\n",
        "###**Conclusion:-**\n",
        "\n",
        "In this experiment, I have built different hyperparameter tuned Neural Network models to classifiy digits of male/female classes of the Ekush dataset. RMSProp and Adam optimizers with 0.0001 learning rate were proven to be the most effective. In the experiment it was observed that a specific combination of Tanh and LeakyReLU yielded to the best results. Hence, it is proved that the zero gradient problems of Sigmoid and dying ReLU problem of ReLU hampers accuracy and to avoid this, the activation combination of Config-2 was effective. Around 100 epochs are enough for the best models. Too high epoch is simply redundant as the accuracy doesn't seem to improve. But the loss keeps decreasing. The highest accuracy in this experiment is 63.77 which is not satisfactory at all if we consider the strength of a 3-4 layer Neural Network. The dataset must have certain defects or more effective preprocessing is needed.\n",
        "\n",
        "\n",
        "\n",
        "\n"
      ]
    },
    {
      "cell_type": "code",
      "metadata": {
        "id": "ozf-qRubmelG",
        "colab": {
          "base_uri": "https://localhost:8080/"
        },
        "outputId": "d1c24a82-6909-4bdc-e2f1-76ec55bf5957"
      },
      "source": [
        "from google.colab import drive\n",
        "\n",
        "drive.mount('/content/gdrive')\n",
        "\n"
      ],
      "execution_count": null,
      "outputs": [
        {
          "output_type": "stream",
          "text": [
            "Mounted at /content/gdrive\n"
          ],
          "name": "stdout"
        }
      ]
    },
    {
      "cell_type": "code",
      "metadata": {
        "id": "RxfCkUueNdSH"
      },
      "source": [
        "import torch\n",
        "import torch.nn as nn\n",
        "import torch.nn.functional as F\n",
        "import torchvision\n",
        "import torchvision.transforms as transforms\n",
        "import torchvision.datasets as dsets\n",
        "import pandas as pd\n",
        "\n",
        "\n",
        "def get_data(path):\n",
        "    df = pd.read_csv(path)\n",
        "    return df.as_matrix() \n",
        "\n",
        "data_sets = dsets.DatasetFolder('/content/gdrive/MyDrive/Ekushe', \n",
        "                                   loader=get_data, extensions='.csv')\n",
        "train_loader = torch.utils.data.DataLoader(data_sets,\n",
        "                                          batch_size=32,\n",
        "                                          shuffle=False,\n",
        "                                          num_workers=4)"
      ],
      "execution_count": null,
      "outputs": []
    },
    {
      "cell_type": "code",
      "metadata": {
        "id": "FP-aitvvTG7q"
      },
      "source": [
        "# Library\n",
        "import pandas as pd\n",
        "import numpy as np\n",
        "\n",
        "# Load Data\n",
        "train1 = pd.read_csv(\"/content/gdrive/MyDrive/Ekushe/Male/maleDigits.csv\")\n",
        "\n",
        "# Separating Data and Label\n",
        "\n",
        "X_train1 = train1.drop(labels = [\"label\"],axis = 1)\n",
        "Y_train1 = np.full(X_train1.shape[0], 0)\n",
        "# Y_train1 = train1[\"label\"]\n",
        "\n",
        "# Normalize the data\n",
        "X_train1 = X_train1 / 255.0\n",
        "\n",
        "# Reshape the array into 28 x 28 pixel\n",
        "X_train1 = X_train1.values.reshape(-1,28,28,1)"
      ],
      "execution_count": null,
      "outputs": []
    },
    {
      "cell_type": "code",
      "metadata": {
        "colab": {
          "base_uri": "https://localhost:8080/"
        },
        "id": "tbp-c4xzTRjY",
        "outputId": "e06d569c-82d8-4d83-8f42-75316c428997"
      },
      "source": [
        "Y_train1[0]"
      ],
      "execution_count": null,
      "outputs": [
        {
          "output_type": "execute_result",
          "data": {
            "text/plain": [
              "0"
            ]
          },
          "metadata": {
            "tags": []
          },
          "execution_count": 4
        }
      ]
    },
    {
      "cell_type": "code",
      "metadata": {
        "id": "ptmnmmaJUTnP"
      },
      "source": [
        "# Library\n",
        "# import pandas as pd\n",
        "# import numpy as np\n",
        "\n",
        "# Load Data\n",
        "train2 = pd.read_csv(\"/content/gdrive/MyDrive/Ekushe/Female/femaleDigits.csv\")\n",
        "\n",
        "# Separating Data and Label\n",
        "X_train2 = train2.drop(labels = [\"label\"],axis = 1)\n",
        "Y_train2 = np.full(X_train2.shape[0], 1)\n",
        "# Y_train2 = train2[\"label\"]\n",
        "\n",
        "# Normalize the data\n",
        "X_train2 = X_train2 / 255.0\n",
        "\n",
        "# Reshape the array into 28 x 28 pixel\n",
        "X_train2 = X_train2.values.reshape(-1,28,28,1)"
      ],
      "execution_count": null,
      "outputs": []
    },
    {
      "cell_type": "code",
      "metadata": {
        "colab": {
          "base_uri": "https://localhost:8080/"
        },
        "id": "A_z1I33RUaOm",
        "outputId": "3996b817-2e9f-4b2b-a81b-ab3fe2c92767"
      },
      "source": [
        "Y_train2.shape"
      ],
      "execution_count": null,
      "outputs": [
        {
          "output_type": "execute_result",
          "data": {
            "text/plain": [
              "(15622,)"
            ]
          },
          "metadata": {
            "tags": []
          },
          "execution_count": 6
        }
      ]
    },
    {
      "cell_type": "code",
      "metadata": {
        "id": "ShON5o89VhhA",
        "colab": {
          "base_uri": "https://localhost:8080/"
        },
        "outputId": "9ce7fc12-528e-4f8c-f53a-a6daec410506"
      },
      "source": [
        "Y_train2[0]"
      ],
      "execution_count": null,
      "outputs": [
        {
          "output_type": "execute_result",
          "data": {
            "text/plain": [
              "1"
            ]
          },
          "metadata": {
            "tags": []
          },
          "execution_count": 7
        }
      ]
    },
    {
      "cell_type": "code",
      "metadata": {
        "colab": {
          "base_uri": "https://localhost:8080/"
        },
        "id": "MbxLLvPLaajF",
        "outputId": "d6a233e9-cf8d-4196-940b-8f7517913e4b"
      },
      "source": [
        "np.concatenate((X_train1, X_train2), axis=0).shape"
      ],
      "execution_count": null,
      "outputs": [
        {
          "output_type": "execute_result",
          "data": {
            "text/plain": [
              "(30830, 28, 28, 1)"
            ]
          },
          "metadata": {
            "tags": []
          },
          "execution_count": 8
        }
      ]
    },
    {
      "cell_type": "code",
      "metadata": {
        "colab": {
          "base_uri": "https://localhost:8080/"
        },
        "id": "zmwt3c1TagNW",
        "outputId": "ef971f4a-4cca-411b-b8a4-9f0f6ff360d7"
      },
      "source": [
        "X_train1.shape"
      ],
      "execution_count": null,
      "outputs": [
        {
          "output_type": "execute_result",
          "data": {
            "text/plain": [
              "(15208, 28, 28, 1)"
            ]
          },
          "metadata": {
            "tags": []
          },
          "execution_count": 9
        }
      ]
    },
    {
      "cell_type": "code",
      "metadata": {
        "id": "jNivF2AnX_H9"
      },
      "source": [
        "a,b,c,d=np.concatenate((X_train1, X_train2), axis=0).shape\n",
        "n_samples, n_features=a,(b*c*d)"
      ],
      "execution_count": null,
      "outputs": []
    },
    {
      "cell_type": "code",
      "metadata": {
        "id": "6nagLBkO4rTv"
      },
      "source": [
        "from sklearn.model_selection import train_test_split\n",
        "X_train1, X_test1, y_train1, y_test1 = train_test_split(X_train1, Y_train1, test_size=0.05, random_state=42)"
      ],
      "execution_count": null,
      "outputs": []
    },
    {
      "cell_type": "code",
      "metadata": {
        "id": "bZM3hbLk2a1x"
      },
      "source": [
        "from sklearn.model_selection import train_test_split\n",
        "X_train2, X_test2, y_train2, y_test2 = train_test_split(X_train2, Y_train2, test_size=0.05, random_state=42)"
      ],
      "execution_count": null,
      "outputs": []
    },
    {
      "cell_type": "code",
      "metadata": {
        "id": "qN7hHFF-z19W"
      },
      "source": [
        "X_train=np.concatenate((X_train1, X_train2), axis=0)"
      ],
      "execution_count": null,
      "outputs": []
    },
    {
      "cell_type": "code",
      "metadata": {
        "id": "g39bEr350nQo",
        "colab": {
          "base_uri": "https://localhost:8080/"
        },
        "outputId": "81602951-bf7a-4e63-d5a2-a69afc2b7df9"
      },
      "source": [
        "X_train.shape"
      ],
      "execution_count": null,
      "outputs": [
        {
          "output_type": "execute_result",
          "data": {
            "text/plain": [
              "(29287, 28, 28, 1)"
            ]
          },
          "metadata": {
            "tags": []
          },
          "execution_count": 14
        }
      ]
    },
    {
      "cell_type": "code",
      "metadata": {
        "id": "skKhUH9g0vm4"
      },
      "source": [
        "Y_train=np.concatenate((y_train1, y_train2), axis=0)"
      ],
      "execution_count": null,
      "outputs": []
    },
    {
      "cell_type": "code",
      "metadata": {
        "id": "WcVHRqN_00oK",
        "colab": {
          "base_uri": "https://localhost:8080/"
        },
        "outputId": "0e31a414-3738-4bb3-d638-3f13826b9e5d"
      },
      "source": [
        "Y_train.shape"
      ],
      "execution_count": null,
      "outputs": [
        {
          "output_type": "execute_result",
          "data": {
            "text/plain": [
              "(29287,)"
            ]
          },
          "metadata": {
            "tags": []
          },
          "execution_count": 16
        }
      ]
    },
    {
      "cell_type": "code",
      "metadata": {
        "id": "F_vEPNIk07fJ",
        "colab": {
          "base_uri": "https://localhost:8080/"
        },
        "outputId": "f360931b-ed27-411d-b31a-012df91a34d9"
      },
      "source": [
        "Y_train[500]"
      ],
      "execution_count": null,
      "outputs": [
        {
          "output_type": "execute_result",
          "data": {
            "text/plain": [
              "0"
            ]
          },
          "metadata": {
            "tags": []
          },
          "execution_count": 17
        }
      ]
    },
    {
      "cell_type": "code",
      "metadata": {
        "id": "LSiR-05x1KoY"
      },
      "source": [
        "X_test=np.concatenate((X_test1, X_test2), axis=0)\n",
        "Y_test=np.concatenate((y_test1, y_test2), axis=0)"
      ],
      "execution_count": null,
      "outputs": []
    },
    {
      "cell_type": "code",
      "metadata": {
        "id": "Wtc-qJnZ5wwo",
        "colab": {
          "base_uri": "https://localhost:8080/"
        },
        "outputId": "4cfff993-2df2-4952-c0d2-b39c53afe9c4"
      },
      "source": [
        "X_test.shape"
      ],
      "execution_count": null,
      "outputs": [
        {
          "output_type": "execute_result",
          "data": {
            "text/plain": [
              "(1543, 28, 28, 1)"
            ]
          },
          "metadata": {
            "tags": []
          },
          "execution_count": 19
        }
      ]
    },
    {
      "cell_type": "code",
      "metadata": {
        "id": "GzVDYQ0m51j5",
        "colab": {
          "base_uri": "https://localhost:8080/"
        },
        "outputId": "09a6a632-9c5f-43bc-ac17-248e73780aa9"
      },
      "source": [
        "Y_test.shape"
      ],
      "execution_count": null,
      "outputs": [
        {
          "output_type": "execute_result",
          "data": {
            "text/plain": [
              "(1543,)"
            ]
          },
          "metadata": {
            "tags": []
          },
          "execution_count": 20
        }
      ]
    },
    {
      "cell_type": "code",
      "metadata": {
        "id": "mrguvRbP5_7R"
      },
      "source": [
        "# Y_train=Y_train.reshape(29287,1)\n",
        "# Y_test=Y_test.reshape(1543,1)"
      ],
      "execution_count": null,
      "outputs": []
    },
    {
      "cell_type": "code",
      "metadata": {
        "colab": {
          "base_uri": "https://localhost:8080/"
        },
        "id": "BX9G9-Vd6Tih",
        "outputId": "d480002a-0066-4e51-f77b-fbd6ecf053bc"
      },
      "source": [
        "Y_train.shape"
      ],
      "execution_count": null,
      "outputs": [
        {
          "output_type": "execute_result",
          "data": {
            "text/plain": [
              "(29287,)"
            ]
          },
          "metadata": {
            "tags": []
          },
          "execution_count": 21
        }
      ]
    },
    {
      "cell_type": "code",
      "metadata": {
        "id": "cphGWRuJ6zS9",
        "colab": {
          "base_uri": "https://localhost:8080/"
        },
        "outputId": "35121bcb-0b4a-4608-db30-e7d9bc769fa9"
      },
      "source": [
        "Y_test.shape"
      ],
      "execution_count": null,
      "outputs": [
        {
          "output_type": "execute_result",
          "data": {
            "text/plain": [
              "(1543,)"
            ]
          },
          "metadata": {
            "tags": []
          },
          "execution_count": 22
        }
      ]
    },
    {
      "cell_type": "code",
      "metadata": {
        "id": "KuJKHH7f9baS",
        "colab": {
          "base_uri": "https://localhost:8080/"
        },
        "outputId": "548396cb-acce-434d-e2d5-cf3010dc550b"
      },
      "source": [
        "len(X_train)"
      ],
      "execution_count": null,
      "outputs": [
        {
          "output_type": "execute_result",
          "data": {
            "text/plain": [
              "29287"
            ]
          },
          "metadata": {
            "tags": []
          },
          "execution_count": 23
        }
      ]
    },
    {
      "cell_type": "code",
      "metadata": {
        "id": "PHz4g_HSSCKu"
      },
      "source": [
        ""
      ],
      "execution_count": null,
      "outputs": []
    },
    {
      "cell_type": "code",
      "metadata": {
        "id": "JCrksyKfXIdG"
      },
      "source": [
        "from sklearn import datasets\n",
        "from sklearn.preprocessing import StandardScaler"
      ],
      "execution_count": null,
      "outputs": []
    },
    {
      "cell_type": "code",
      "metadata": {
        "id": "LGkhbKnabxK5"
      },
      "source": [
        "nsamples, nx, ny,k = X_train.shape\n",
        "X_train = X_train.reshape((nsamples,nx*ny*k))\n",
        "nsamples, nx, ny,k = X_test.shape\n",
        "X_test = X_test.reshape((nsamples,nx*ny*k))"
      ],
      "execution_count": null,
      "outputs": []
    },
    {
      "cell_type": "code",
      "metadata": {
        "id": "3YfXzMlgXI3X"
      },
      "source": [
        "# scale\n",
        "sc = StandardScaler()\n",
        "X_train = sc.fit_transform(X_train)\n",
        "X_test = sc.transform(X_test)"
      ],
      "execution_count": null,
      "outputs": []
    },
    {
      "cell_type": "code",
      "metadata": {
        "id": "vQrYfjTsXJQ1"
      },
      "source": [
        "X_train = torch.from_numpy(X_train.astype(np.float32))\n",
        "X_test = torch.from_numpy(X_test.astype(np.float32))\n",
        "Y_train = torch.from_numpy(Y_train.astype(np.float32))\n",
        "Y_test = torch.from_numpy(Y_test.astype(np.float32))"
      ],
      "execution_count": null,
      "outputs": []
    },
    {
      "cell_type": "code",
      "metadata": {
        "id": "9-PAe-yRXJf9"
      },
      "source": [
        "Y_train = Y_train.view(Y_train.shape[0], 1)\n",
        "Y_test = Y_test.view(Y_test.shape[0], 1)"
      ],
      "execution_count": null,
      "outputs": []
    },
    {
      "cell_type": "markdown",
      "metadata": {
        "id": "bVL8j_u0cJrx"
      },
      "source": [
        "CONFIGURATION-1"
      ]
    },
    {
      "cell_type": "code",
      "metadata": {
        "colab": {
          "base_uri": "https://localhost:8080/"
        },
        "id": "DdwoNMdJ-KYm",
        "outputId": "c93e2e29-7fee-4120-b6f7-a7b369916774"
      },
      "source": [
        "import torch\n",
        "import torch.nn as nn\n",
        "import torchvision.transforms as transforms\n",
        "import torchvision.datasets as dsets\n",
        "\n",
        "input_dim = 28*28\n",
        "num_epochs = 100\n",
        "learning_rate = 0.0001\n",
        "num_hidden = 100\n",
        "output_dim = 1\n",
        "\n",
        "\n",
        "class DeepNeuralNetworkModel(nn.Module):\n",
        "    def __init__(self, input_size, num_classes, num_hidden):\n",
        "        super().__init__()\n",
        "        ### 1st hidden layer: 784 --> 100\n",
        "        self.linear_1 = nn.Linear(input_size, num_hidden)\n",
        "        ### Non-linearity in 1st hidden layer\n",
        "        self.relu_1 = nn.LeakyReLU()\n",
        "\n",
        "        ### 2nd hidden layer: 100 --> 100\n",
        "        self.linear_2 = nn.Linear(num_hidden, num_hidden)\n",
        "        ### Non-linearity in 2nd hidden layer\n",
        "        self.relu_2 = nn.ReLU()\n",
        "\n",
        "        ### 3rd hidden layer: 100 --> 100\n",
        "        self.linear_3 = nn.Linear(num_hidden, num_hidden)\n",
        "        ### Non-linearity in 3rd hidden layer\n",
        "        self.relu_3 = nn.Tanh()\n",
        "\n",
        "        # ### 3rd hidden layer: 100 --> 100\n",
        "        # self.linear_4 = nn.Linear(num_hidden3, num_hidden4)\n",
        "        # ### Non-linearity in 3rd hidden layer\n",
        "        # self.relu_4 = nn.LeakyReLU()\n",
        "\n",
        "        ### Output layer: 100 --> 10\n",
        "        self.linear_out = nn.Linear(num_hidden, num_classes)\n",
        "\n",
        "    def forward(self, x):\n",
        "        ### 1st hidden layer\n",
        "        out  = self.linear_1(x)\n",
        "        ### Non-linearity in 1st hidden layer\n",
        "        out = self.relu_1(out)\n",
        "        \n",
        "        ### 2nd hidden layer\n",
        "        out  = self.linear_2(out)\n",
        "        ### Non-linearity in 2nd hidden layer\n",
        "        out = self.relu_2(out)\n",
        "\n",
        "        ### 3rd hidden layer\n",
        "        out  = self.linear_3(out)\n",
        "        ### Non-linearity in 3rd hidden layer\n",
        "        out = self.relu_3(out)\n",
        "\n",
        "        # ### 4th hidden layer\n",
        "        # out  = self.linear_4(out)\n",
        "        # ### Non-linearity in 3rd hidden layer\n",
        "        # out = self.relu_4(out)\n",
        "        \n",
        "        # Linear layer (output)\n",
        "        probas  = self.linear_out(out)\n",
        "        probas = torch.sigmoid(probas)\n",
        "        return probas\n",
        "\n",
        "# INSTANTIATE MODEL CLASS\n",
        "\n",
        "model = DeepNeuralNetworkModel(input_size = input_dim,\n",
        "                               num_classes = output_dim,\n",
        "                               num_hidden = num_hidden)\n",
        "\n",
        "criterion=nn.BCELoss()\n",
        "optimizer = torch.optim.Adam(model.parameters(), lr=learning_rate)\n",
        "\n",
        "iteration_loss=[]\n",
        "for epoch in range(num_epochs):\n",
        "    # Forward pass and loss\n",
        "    Y_pred = model(X_train)\n",
        "    loss = criterion(Y_pred, Y_train)\n",
        "\n",
        "    # Backward pass and update\n",
        "    loss.backward()\n",
        "    optimizer.step()\n",
        "\n",
        "    # zero grad before new step\n",
        "    optimizer.zero_grad()\n",
        "\n",
        "    if (epoch+1) % 10 == 0:\n",
        "      Y_predicted = model(X_test)\n",
        "      Y_predicted_cls = Y_predicted.round()\n",
        "      acc = Y_predicted_cls.eq(Y_test).sum() / float(Y_test.shape[0])\n",
        "      print(f'epoch: {epoch+1}, loss = {loss.item():.4f}, accuracy: {acc.item():.4f}')\n",
        "      iteration_loss.append(loss.item())\n",
        "\n",
        "\n",
        "with torch.no_grad():\n",
        "    Y_predicted = model(X_test)\n",
        "    Y_predicted_cls = Y_predicted.round()\n",
        "    acc = Y_predicted_cls.eq(Y_test).sum() / float(Y_test.shape[0])\n",
        "    print(f'accuracy: {acc.item():.4f}')"
      ],
      "execution_count": null,
      "outputs": [
        {
          "output_type": "stream",
          "text": [
            "epoch: 10, loss = 0.6863, accuracy: 0.5781\n",
            "epoch: 20, loss = 0.6782, accuracy: 0.5936\n",
            "epoch: 30, loss = 0.6699, accuracy: 0.6066\n",
            "epoch: 40, loss = 0.6628, accuracy: 0.6073\n",
            "epoch: 50, loss = 0.6566, accuracy: 0.6124\n",
            "epoch: 60, loss = 0.6505, accuracy: 0.6209\n",
            "epoch: 70, loss = 0.6444, accuracy: 0.6196\n",
            "epoch: 80, loss = 0.6380, accuracy: 0.6183\n",
            "epoch: 90, loss = 0.6312, accuracy: 0.6228\n",
            "epoch: 100, loss = 0.6239, accuracy: 0.6235\n",
            "accuracy: 0.6235\n"
          ],
          "name": "stdout"
        }
      ]
    },
    {
      "cell_type": "code",
      "metadata": {
        "colab": {
          "base_uri": "https://localhost:8080/",
          "height": 317
        },
        "id": "Rih6LmxIPGmC",
        "outputId": "2c1a491f-2a90-4ce5-ae87-62a161891657"
      },
      "source": [
        "import matplotlib\n",
        "import matplotlib.pyplot as plt\n",
        "\n",
        "print (iteration_loss)\n",
        "plt.plot(iteration_loss)\n",
        "plt.ylabel('Binary Cross Entropy Loss')\n",
        "plt.xlabel('Epoch (in every 10)')\n",
        "plt.show()"
      ],
      "execution_count": null,
      "outputs": [
        {
          "output_type": "stream",
          "text": [
            "[0.6862869262695312, 0.6781845092773438, 0.6698713898658752, 0.6628159284591675, 0.656563401222229, 0.6505322456359863, 0.6444444060325623, 0.6380170583724976, 0.6311806440353394, 0.6238612532615662]\n"
          ],
          "name": "stdout"
        },
        {
          "output_type": "display_data",
          "data": {
            "image/png": "[encoded data removed]",
            "text/plain": [
              "<Figure size 432x288 with 1 Axes>"
            ]
          },
          "metadata": {
            "tags": [],
            "needs_background": "light"
          }
        }
      ]
    },
    {
      "cell_type": "code",
      "metadata": {
        "id": "5D3vCe4xrD5M"
      },
      "source": [
        ""
      ],
      "execution_count": null,
      "outputs": []
    },
    {
      "cell_type": "markdown",
      "metadata": {
        "id": "b5IfyweicMSy"
      },
      "source": [
        "CONFIGURATION-2"
      ]
    },
    {
      "cell_type": "code",
      "metadata": {
        "id": "MpenCn2dsig5",
        "colab": {
          "base_uri": "https://localhost:8080/"
        },
        "outputId": "4a9f5f76-c0c2-4eea-a1e2-6c62b2220fbd"
      },
      "source": [
        "import torch\n",
        "import torch.nn as nn\n",
        "import torchvision.transforms as transforms\n",
        "import torchvision.datasets as dsets\n",
        "\n",
        "input_dim = 28*28\n",
        "num_epochs = 100\n",
        "learning_rate = 0.0001\n",
        "num_hidden = 300\n",
        "output_dim = 1\n",
        "\n",
        "\n",
        "class DeepNeuralNetworkModel(nn.Module):\n",
        "    def __init__(self, input_size, num_classes, num_hidden):\n",
        "        super().__init__()\n",
        "        ### 1st hidden layer: 784 --> 100\n",
        "        self.linear_1 = nn.Linear(input_size, num_hidden)\n",
        "        ### Non-linearity in 1st hidden layer\n",
        "        self.relu_1 = nn.Tanh()\n",
        "\n",
        "        ### 2nd hidden layer: 100 --> 100\n",
        "        self.linear_2 = nn.Linear(num_hidden, num_hidden)\n",
        "        ### Non-linearity in 2nd hidden layer\n",
        "        self.relu_2 = nn.Tanh()\n",
        "\n",
        "        ### 3rd hidden layer: 100 --> 100\n",
        "        self.linear_3 = nn.Linear(num_hidden, num_hidden)\n",
        "        ### Non-linearity in 3rd hidden layer\n",
        "        self.relu_3 = nn.LeakyReLU()\n",
        "\n",
        "        ### 3rd hidden layer: 100 --> 100\n",
        "        self.linear_4 = nn.Linear(num_hidden, num_hidden)\n",
        "        ### Non-linearity in 3rd hidden layer\n",
        "        self.relu_4 = nn.LeakyReLU()\n",
        "\n",
        "        ### Output layer: 100 --> 10\n",
        "        self.linear_out = nn.Linear(num_hidden, num_classes)\n",
        "\n",
        "    def forward(self, x):\n",
        "        ### 1st hidden layer\n",
        "        out  = self.linear_1(x)\n",
        "        ### Non-linearity in 1st hidden layer\n",
        "        out = self.relu_1(out)\n",
        "        \n",
        "        ### 2nd hidden layer\n",
        "        out  = self.linear_2(out)\n",
        "        ### Non-linearity in 2nd hidden layer\n",
        "        out = self.relu_2(out)\n",
        "\n",
        "        ### 3rd hidden layer\n",
        "        out  = self.linear_3(out)\n",
        "        ### Non-linearity in 3rd hidden layer\n",
        "        out = self.relu_3(out)\n",
        "\n",
        "        ### 4th hidden layer\n",
        "        out  = self.linear_4(out)\n",
        "        ### Non-linearity in 3rd hidden layer\n",
        "        out = self.relu_4(out)\n",
        "        \n",
        "        # Linear layer (output)\n",
        "        probas  = self.linear_out(out)\n",
        "        probas = torch.sigmoid(probas)\n",
        "        return probas\n",
        "\n",
        "# INSTANTIATE MODEL CLASS\n",
        "\n",
        "model = DeepNeuralNetworkModel(input_size = input_dim,\n",
        "                               num_classes = output_dim,\n",
        "                               num_hidden = num_hidden)\n",
        "\n",
        "criterion=nn.BCELoss()\n",
        "optimizer = torch.optim.Adam(model.parameters(), lr=learning_rate)\n",
        "\n",
        "iteration_loss=[]\n",
        "for epoch in range(num_epochs):\n",
        "    # Forward pass and loss\n",
        "    Y_pred = model(X_train)\n",
        "    loss = criterion(Y_pred, Y_train)\n",
        "\n",
        "    # Backward pass and update\n",
        "    loss.backward()\n",
        "    optimizer.step()\n",
        "\n",
        "    # zero grad before new step\n",
        "    optimizer.zero_grad()\n",
        "\n",
        "    if (epoch+1) % 10 == 0:\n",
        "      Y_predicted = model(X_test)\n",
        "      Y_predicted_cls = Y_predicted.round()\n",
        "      acc = Y_predicted_cls.eq(Y_test).sum() / float(Y_test.shape[0])\n",
        "      print(f'epoch: {epoch+1}, loss = {loss.item():.4f}, accuracy: {acc.item():.4f}')\n",
        "      iteration_loss.append(loss.item())\n",
        "\n",
        "\n",
        "with torch.no_grad():\n",
        "    Y_predicted = model(X_test)\n",
        "    Y_predicted_cls = Y_predicted.round()\n",
        "    acc = Y_predicted_cls.eq(Y_test).sum() / float(Y_test.shape[0])\n",
        "    print(f'accuracy: {acc.item():.4f}')"
      ],
      "execution_count": null,
      "outputs": [
        {
          "output_type": "stream",
          "text": [
            "epoch: 10, loss = 0.6837, accuracy: 0.5885\n",
            "epoch: 20, loss = 0.6716, accuracy: 0.6021\n",
            "epoch: 30, loss = 0.6628, accuracy: 0.6034\n",
            "epoch: 40, loss = 0.6563, accuracy: 0.6137\n",
            "epoch: 50, loss = 0.6489, accuracy: 0.6157\n",
            "epoch: 60, loss = 0.6398, accuracy: 0.6222\n",
            "epoch: 70, loss = 0.6292, accuracy: 0.6176\n",
            "epoch: 80, loss = 0.6175, accuracy: 0.6254\n",
            "epoch: 90, loss = 0.6033, accuracy: 0.6358\n",
            "epoch: 100, loss = 0.5844, accuracy: 0.6377\n",
            "accuracy: 0.6377\n"
          ],
          "name": "stdout"
        }
      ]
    },
    {
      "cell_type": "code",
      "metadata": {
        "colab": {
          "base_uri": "https://localhost:8080/",
          "height": 317
        },
        "id": "hBwXUQ1RPXN4",
        "outputId": "fbefb01b-d418-4f2f-8b6a-37687ed91848"
      },
      "source": [
        "import matplotlib\n",
        "import matplotlib.pyplot as plt\n",
        "\n",
        "print (iteration_loss)\n",
        "plt.plot(iteration_loss)\n",
        "plt.ylabel('Binary Cross Entropy Loss')\n",
        "plt.xlabel('Epoch (in every 10)')\n",
        "plt.show()"
      ],
      "execution_count": null,
      "outputs": [
        {
          "output_type": "stream",
          "text": [
            "[0.6837330460548401, 0.671586811542511, 0.6628147959709167, 0.6562776565551758, 0.6488621234893799, 0.6398082375526428, 0.6291924715042114, 0.6174901723861694, 0.6033045649528503, 0.5843885540962219]\n"
          ],
          "name": "stdout"
        },
        {
          "output_type": "display_data",
          "data": {
            "image/png": "[encoded data removed]",
            "text/plain": [
              "<Figure size 432x288 with 1 Axes>"
            ]
          },
          "metadata": {
            "tags": [],
            "needs_background": "light"
          }
        }
      ]
    },
    {
      "cell_type": "markdown",
      "metadata": {
        "id": "7cEECsKucw92"
      },
      "source": [
        "CONFIG-2 PREDICTION ON TEST DATA"
      ]
    },
    {
      "cell_type": "code",
      "metadata": {
        "colab": {
          "base_uri": "https://localhost:8080/"
        },
        "id": "X0nKfuBFdE3Q",
        "outputId": "b5510305-2cbd-472d-cffb-ac31dc361ea3"
      },
      "source": [
        "for i in range(795,805):\n",
        "  print(Y_test[i],\" \")"
      ],
      "execution_count": null,
      "outputs": [
        {
          "output_type": "stream",
          "text": [
            "tensor([1.])  \n",
            "tensor([1.])  \n",
            "tensor([1.])  \n",
            "tensor([1.])  \n",
            "tensor([1.])  \n",
            "tensor([1.])  \n",
            "tensor([1.])  \n",
            "tensor([1.])  \n",
            "tensor([1.])  \n",
            "tensor([1.])  \n"
          ],
          "name": "stdout"
        }
      ]
    },
    {
      "cell_type": "code",
      "metadata": {
        "id": "M7lxaYbKdFOH"
      },
      "source": [
        "predictions=model.forward(X_test[795:805])\n",
        "predictions=predictions.round()"
      ],
      "execution_count": null,
      "outputs": []
    },
    {
      "cell_type": "code",
      "metadata": {
        "colab": {
          "base_uri": "https://localhost:8080/"
        },
        "id": "NoXMPmsndFiD",
        "outputId": "d7c54358-1baa-4c19-f6b5-04857b56d845"
      },
      "source": [
        "print(predictions.detach().numpy())"
      ],
      "execution_count": null,
      "outputs": [
        {
          "output_type": "stream",
          "text": [
            "[[1.]\n",
            " [1.]\n",
            " [1.]\n",
            " [0.]\n",
            " [1.]\n",
            " [1.]\n",
            " [1.]\n",
            " [1.]\n",
            " [1.]\n",
            " [1.]]\n"
          ],
          "name": "stdout"
        }
      ]
    },
    {
      "cell_type": "code",
      "metadata": {
        "id": "A8X42M_vx1P4"
      },
      "source": [
        ""
      ],
      "execution_count": null,
      "outputs": []
    },
    {
      "cell_type": "markdown",
      "metadata": {
        "id": "WrrfBkuGcP7S"
      },
      "source": [
        "CONFIGURATION-3"
      ]
    },
    {
      "cell_type": "code",
      "metadata": {
        "id": "qc80PF9UyCHJ",
        "colab": {
          "base_uri": "https://localhost:8080/"
        },
        "outputId": "e50f699c-0760-4df3-898b-2c76ff6f1a5f"
      },
      "source": [
        "import torch\n",
        "import torch.nn as nn\n",
        "import torchvision.transforms as transforms\n",
        "import torchvision.datasets as dsets\n",
        "\n",
        "input_dim = 28*28\n",
        "num_epochs = 100\n",
        "learning_rate = 0.0001\n",
        "num_hidden1 = 300\n",
        "num_hidden2 = 500\n",
        "num_hidden3 = 400\n",
        "output_dim = 1\n",
        "\n",
        "\n",
        "class DeepNeuralNetworkModel(nn.Module):\n",
        "    def __init__(self, input_size, num_classes):\n",
        "        super().__init__()\n",
        "        ### 1st hidden layer: 784 --> 100\n",
        "        self.linear_1 = nn.Linear(input_size, num_hidden1)\n",
        "        ### Non-linearity in 1st hidden layer\n",
        "        self.relu_1 = nn.LeakyReLU()\n",
        "\n",
        "        ### 2nd hidden layer: 100 --> 100\n",
        "        self.linear_2 = nn.Linear(num_hidden1, num_hidden2)\n",
        "        ### Non-linearity in 2nd hidden layer\n",
        "        self.relu_2 = nn.Tanh()\n",
        "\n",
        "        ### 3rd hidden layer: 100 --> 100\n",
        "        self.linear_3 = nn.Linear(num_hidden2, num_hidden3)\n",
        "        ### Non-linearity in 3rd hidden layer\n",
        "        self.relu_3 = nn.Tanh()\n",
        "\n",
        "        # ### 3rd hidden layer: 100 --> 100\n",
        "        # self.linear_4 = nn.Linear(num_hidden3, num_hidden4)\n",
        "        # ### Non-linearity in 3rd hidden layer\n",
        "        # self.relu_4 = nn.LeakyReLU()\n",
        "\n",
        "        ### Output layer: 100 --> 10\n",
        "        self.linear_out = nn.Linear(num_hidden3, num_classes)\n",
        "\n",
        "    def forward(self, x):\n",
        "        ### 1st hidden layer\n",
        "        out  = self.linear_1(x)\n",
        "        ### Non-linearity in 1st hidden layer\n",
        "        out = self.relu_1(out)\n",
        "        \n",
        "        ### 2nd hidden layer\n",
        "        out  = self.linear_2(out)\n",
        "        ### Non-linearity in 2nd hidden layer\n",
        "        out = self.relu_2(out)\n",
        "\n",
        "        ### 3rd hidden layer\n",
        "        out  = self.linear_3(out)\n",
        "        ### Non-linearity in 3rd hidden layer\n",
        "        out = self.relu_3(out)\n",
        "\n",
        "        # ### 4th hidden layer\n",
        "        # out  = self.linear_4(out)\n",
        "        # ### Non-linearity in 3rd hidden layer\n",
        "        # out = self.relu_4(out)\n",
        "        \n",
        "        # Linear layer (output)\n",
        "        probas  = self.linear_out(out)\n",
        "        probas = torch.sigmoid(probas)\n",
        "        return probas\n",
        "\n",
        "# INSTANTIATE MODEL CLASS\n",
        "\n",
        "model = DeepNeuralNetworkModel(input_size = input_dim,\n",
        "                               num_classes = output_dim)\n",
        "\n",
        "criterion=nn.BCELoss()\n",
        "optimizer = torch.optim.RMSprop(model.parameters(), lr=learning_rate)\n",
        "\n",
        "iteration_loss=[]\n",
        "for epoch in range(num_epochs):\n",
        "    # Forward pass and loss\n",
        "    Y_pred = model(X_train)\n",
        "    loss = criterion(Y_pred, Y_train)\n",
        "\n",
        "    # Backward pass and update\n",
        "    loss.backward()\n",
        "    optimizer.step()\n",
        "\n",
        "    # zero grad before new step\n",
        "    optimizer.zero_grad()\n",
        "\n",
        "    if (epoch+1) % 10 == 0:\n",
        "      Y_predicted = model(X_test)\n",
        "      Y_predicted_cls = Y_predicted.round()\n",
        "      acc = Y_predicted_cls.eq(Y_test).sum() / float(Y_test.shape[0])\n",
        "      print(f'epoch: {epoch+1}, loss = {loss.item():.4f}, accuracy: {acc.item():.4f}')\n",
        "      iteration_loss.append(loss.item())\n",
        "\n",
        "\n",
        "with torch.no_grad():\n",
        "    Y_predicted = model(X_test)\n",
        "    Y_predicted_cls = Y_predicted.round()\n",
        "    acc = Y_predicted_cls.eq(Y_test).sum() / float(Y_test.shape[0])\n",
        "    print(f'accuracy: {acc.item():.4f}')"
      ],
      "execution_count": null,
      "outputs": [
        {
          "output_type": "stream",
          "text": [
            "epoch: 10, loss = 0.6515, accuracy: 0.6053\n",
            "epoch: 20, loss = 0.6325, accuracy: 0.6124\n",
            "epoch: 30, loss = 0.6143, accuracy: 0.6228\n",
            "epoch: 40, loss = 0.6064, accuracy: 0.6215\n",
            "epoch: 50, loss = 0.6070, accuracy: 0.6008\n",
            "epoch: 60, loss = 0.5924, accuracy: 0.6176\n",
            "epoch: 70, loss = 0.5802, accuracy: 0.6118\n",
            "epoch: 80, loss = 0.5658, accuracy: 0.6150\n",
            "epoch: 90, loss = 0.5543, accuracy: 0.6189\n",
            "epoch: 100, loss = 0.5494, accuracy: 0.6170\n",
            "accuracy: 0.6170\n"
          ],
          "name": "stdout"
        }
      ]
    },
    {
      "cell_type": "code",
      "metadata": {
        "id": "RqN2wbPMzqW6",
        "colab": {
          "base_uri": "https://localhost:8080/",
          "height": 317
        },
        "outputId": "19a0056d-7fca-47a2-f729-075ed70f072b"
      },
      "source": [
        "import matplotlib\n",
        "import matplotlib.pyplot as plt\n",
        "\n",
        "print (iteration_loss)\n",
        "plt.plot(iteration_loss)\n",
        "plt.ylabel('Binary Cross Entropy Loss')\n",
        "plt.xlabel('Epoch (in every 10)')\n",
        "plt.show()"
      ],
      "execution_count": null,
      "outputs": [
        {
          "output_type": "stream",
          "text": [
            "[0.6514616012573242, 0.6324713230133057, 0.6142852306365967, 0.6063638925552368, 0.606981635093689, 0.5923859477043152, 0.5802481770515442, 0.565815806388855, 0.5543085336685181, 0.5494325160980225]\n"
          ],
          "name": "stdout"
        },
        {
          "output_type": "display_data",
          "data": {
            "image/png": "[encoded data removed]",
            "text/plain": [
              "<Figure size 432x288 with 1 Axes>"
            ]
          },
          "metadata": {
            "tags": [],
            "needs_background": "light"
          }
        }
      ]
    },
    {
      "cell_type": "code",
      "metadata": {
        "id": "_8ZFiq7yzuuq"
      },
      "source": [
        ""
      ],
      "execution_count": null,
      "outputs": []
    },
    {
      "cell_type": "markdown",
      "metadata": {
        "id": "oJOve1m0cTzu"
      },
      "source": [
        "CONFIGURATION-4"
      ]
    },
    {
      "cell_type": "code",
      "metadata": {
        "id": "hhkis7dSzkWO",
        "colab": {
          "base_uri": "https://localhost:8080/"
        },
        "outputId": "df59204e-58fe-4e1b-e8aa-d2bc7a2fe944"
      },
      "source": [
        "import torch\n",
        "import torch.nn as nn\n",
        "import torchvision.transforms as transforms\n",
        "import torchvision.datasets as dsets\n",
        "\n",
        "input_dim = 28*28\n",
        "num_epochs = 100\n",
        "learning_rate = 0.0001\n",
        "num_hidden1 = 200\n",
        "num_hidden2 = 400\n",
        "num_hidden3 = 300\n",
        "output_dim = 1\n",
        "\n",
        "\n",
        "class DeepNeuralNetworkModel(nn.Module):\n",
        "    def __init__(self, input_size, num_classes):\n",
        "        super().__init__()\n",
        "        ### 1st hidden layer: 784 --> 100\n",
        "        self.linear_1 = nn.Linear(input_size, num_hidden1)\n",
        "        ### Non-linearity in 1st hidden layer\n",
        "        self.relu_1 = nn.Tanh()\n",
        "\n",
        "        ### 2nd hidden layer: 100 --> 100\n",
        "        self.linear_2 = nn.Linear(num_hidden1, num_hidden2)\n",
        "        ### Non-linearity in 2nd hidden layer\n",
        "        self.relu_2 = nn.LeakyReLU()\n",
        "\n",
        "        ### 3rd hidden layer: 100 --> 100\n",
        "        self.linear_3 = nn.Linear(num_hidden2, num_hidden3)\n",
        "        ### Non-linearity in 3rd hidden layer\n",
        "        self.relu_3 = nn.LeakyReLU()\n",
        "\n",
        "        # ### 3rd hidden layer: 100 --> 100\n",
        "        # self.linear_4 = nn.Linear(num_hidden3, num_hidden4)\n",
        "        # ### Non-linearity in 3rd hidden layer\n",
        "        # self.relu_4 = nn.LeakyReLU()\n",
        "\n",
        "        ### Output layer: 100 --> 10\n",
        "        self.linear_out = nn.Linear(num_hidden3, num_classes)\n",
        "\n",
        "    def forward(self, x):\n",
        "        ### 1st hidden layer\n",
        "        out  = self.linear_1(x)\n",
        "        ### Non-linearity in 1st hidden layer\n",
        "        out = self.relu_1(out)\n",
        "        \n",
        "        ### 2nd hidden layer\n",
        "        out  = self.linear_2(out)\n",
        "        ### Non-linearity in 2nd hidden layer\n",
        "        out = self.relu_2(out)\n",
        "\n",
        "        ### 3rd hidden layer\n",
        "        out  = self.linear_3(out)\n",
        "        ### Non-linearity in 3rd hidden layer\n",
        "        out = self.relu_3(out)\n",
        "\n",
        "        # ### 4th hidden layer\n",
        "        # out  = self.linear_4(out)\n",
        "        # ### Non-linearity in 3rd hidden layer\n",
        "        # out = self.relu_4(out)\n",
        "        \n",
        "        # Linear layer (output)\n",
        "        probas  = self.linear_out(out)\n",
        "        probas = torch.sigmoid(probas)\n",
        "        return probas\n",
        "\n",
        "# INSTANTIATE MODEL CLASS\n",
        "\n",
        "model = DeepNeuralNetworkModel(input_size = input_dim,\n",
        "                               num_classes = output_dim)\n",
        "\n",
        "criterion=nn.BCELoss()\n",
        "optimizer = torch.optim.Adam(model.parameters(), lr=learning_rate)\n",
        "\n",
        "iteration_loss=[]\n",
        "for epoch in range(num_epochs):\n",
        "    # Forward pass and loss\n",
        "    Y_pred = model(X_train)\n",
        "    loss = criterion(Y_pred, Y_train)\n",
        "\n",
        "    # Backward pass and update\n",
        "    loss.backward()\n",
        "    optimizer.step()\n",
        "\n",
        "    # zero grad before new step\n",
        "    optimizer.zero_grad()\n",
        "\n",
        "    if (epoch+1) % 10 == 0:\n",
        "      Y_predicted = model(X_test)\n",
        "      Y_predicted_cls = Y_predicted.round()\n",
        "      acc = Y_predicted_cls.eq(Y_test).sum() / float(Y_test.shape[0])\n",
        "      print(f'epoch: {epoch+1}, loss = {loss.item():.4f}, accuracy: {acc.item():.4f}')\n",
        "      iteration_loss.append(loss.item())\n",
        "\n",
        "\n",
        "with torch.no_grad():\n",
        "    Y_predicted = model(X_test)\n",
        "    Y_predicted_cls = Y_predicted.round()\n",
        "    acc = Y_predicted_cls.eq(Y_test).sum() / float(Y_test.shape[0])\n",
        "    print(f'accuracy: {acc.item():.4f}')"
      ],
      "execution_count": null,
      "outputs": [
        {
          "output_type": "stream",
          "text": [
            "epoch: 10, loss = 0.6800, accuracy: 0.5774\n",
            "epoch: 20, loss = 0.6685, accuracy: 0.5898\n",
            "epoch: 30, loss = 0.6604, accuracy: 0.5982\n",
            "epoch: 40, loss = 0.6533, accuracy: 0.6189\n",
            "epoch: 50, loss = 0.6458, accuracy: 0.6261\n",
            "epoch: 60, loss = 0.6375, accuracy: 0.6286\n",
            "epoch: 70, loss = 0.6283, accuracy: 0.6241\n",
            "epoch: 80, loss = 0.6181, accuracy: 0.6273\n",
            "epoch: 90, loss = 0.6065, accuracy: 0.6267\n",
            "epoch: 100, loss = 0.5926, accuracy: 0.6273\n",
            "accuracy: 0.6273\n"
          ],
          "name": "stdout"
        }
      ]
    },
    {
      "cell_type": "code",
      "metadata": {
        "colab": {
          "base_uri": "https://localhost:8080/",
          "height": 317
        },
        "id": "EUjZTgH_YB29",
        "outputId": "3f69083e-b606-4944-982f-5627546b4c1a"
      },
      "source": [
        "import matplotlib\n",
        "import matplotlib.pyplot as plt\n",
        "\n",
        "print (iteration_loss)\n",
        "plt.plot(iteration_loss)\n",
        "plt.ylabel('Binary Cross Entropy Loss')\n",
        "plt.xlabel('Epoch (in every 10)')\n",
        "plt.show()"
      ],
      "execution_count": null,
      "outputs": [
        {
          "output_type": "stream",
          "text": [
            "[0.6800426244735718, 0.6685191988945007, 0.6604440808296204, 0.6533384919166565, 0.6458401679992676, 0.6374880075454712, 0.6282932162284851, 0.6181369423866272, 0.6064552664756775, 0.5925570726394653]\n"
          ],
          "name": "stdout"
        },
        {
          "output_type": "display_data",
          "data": {
            "image/png": "[encoded data removed]",
            "text/plain": [
              "<Figure size 432x288 with 1 Axes>"
            ]
          },
          "metadata": {
            "tags": [],
            "needs_background": "light"
          }
        }
      ]
    },
    {
      "cell_type": "code",
      "metadata": {
        "colab": {
          "base_uri": "https://localhost:8080/"
        },
        "id": "whzBicsaYFw_",
        "outputId": "b88592da-6a17-4262-83ba-115663c64b9f"
      },
      "source": [
        "for i in range(795,805):\n",
        "  print(Y_test[i],\" \")"
      ],
      "execution_count": null,
      "outputs": [
        {
          "output_type": "stream",
          "text": [
            "tensor([1.])  \n",
            "tensor([1.])  \n",
            "tensor([1.])  \n",
            "tensor([1.])  \n",
            "tensor([1.])  \n",
            "tensor([1.])  \n",
            "tensor([1.])  \n",
            "tensor([1.])  \n",
            "tensor([1.])  \n",
            "tensor([1.])  \n"
          ],
          "name": "stdout"
        }
      ]
    },
    {
      "cell_type": "code",
      "metadata": {
        "id": "YhYMmvHEYGfC"
      },
      "source": [
        "predictions=model.forward(X_test[795:805])\n",
        "predictions=predictions.round()"
      ],
      "execution_count": null,
      "outputs": []
    },
    {
      "cell_type": "code",
      "metadata": {
        "colab": {
          "base_uri": "https://localhost:8080/"
        },
        "id": "C8yXhmpaaqtA",
        "outputId": "f3b67209-03b0-4481-9f21-b9f9d436347e"
      },
      "source": [
        "print(predictions.detach().numpy())"
      ],
      "execution_count": null,
      "outputs": [
        {
          "output_type": "stream",
          "text": [
            "[[0.]\n",
            " [1.]\n",
            " [1.]\n",
            " [0.]\n",
            " [1.]\n",
            " [1.]\n",
            " [1.]\n",
            " [1.]\n",
            " [1.]\n",
            " [1.]]\n"
          ],
          "name": "stdout"
        }
      ]
    },
    {
      "cell_type": "code",
      "metadata": {
        "id": "MC3wQx--a1U3"
      },
      "source": [
        ""
      ],
      "execution_count": null,
      "outputs": []
    },
    {
      "cell_type": "code",
      "metadata": {
        "id": "pdyht0TRdesZ"
      },
      "source": [
        ""
      ],
      "execution_count": null,
      "outputs": []
    }
  ]
}